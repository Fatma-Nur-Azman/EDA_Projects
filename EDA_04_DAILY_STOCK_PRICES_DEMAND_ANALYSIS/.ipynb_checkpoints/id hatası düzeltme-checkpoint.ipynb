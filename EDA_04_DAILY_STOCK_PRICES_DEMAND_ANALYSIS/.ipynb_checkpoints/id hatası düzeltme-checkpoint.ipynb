{
 "cells": [
  {
   "cell_type": "code",
   "execution_count": 11,
   "id": "118f29c3",
   "metadata": {
    "ExecuteTime": {
     "end_time": "2024-06-16T17:29:49.153194Z",
     "start_time": "2024-06-16T17:29:49.087979Z"
    }
   },
   "outputs": [],
   "source": [
    "import json\n",
    "\n",
    "# Read the notebook file\n",
    "with open(r'C:\\Users\\ASUS\\Desktop\\EDA_Projects\\EDA_02_STARTUP_FUNDING_ANALYSIS\\Startup_EDA2_Project.ipynb', 'r', encoding='utf-8') as file:\n",
    "    notebook_data = json.load(file)\n",
    "\n",
    "# Fix the metadata of the markdown cell\n",
    "for cell in notebook_data['cells']:\n",
    "    if cell['cell_type'] == 'markdown' and 'id' in cell:\n",
    "        del cell['id']\n",
    "\n",
    "# Save the updated notebook file\n",
    "with open(r'C:\\Users\\ASUS\\Desktop\\EDA_Projects\\EDA_02_STARTUP_FUNDING_ANALYSIS\\Startup_EDA2_Project_fixed.ipynb', 'w', encoding='utf-8') as file:\n",
    "    json.dump(notebook_data, file, ensure_ascii=False, indent=4)\n"
   ]
  }
 ],
 "metadata": {
  "hide_input": false,
  "kernelspec": {
   "display_name": "Python 3 (ipykernel)",
   "language": "python",
   "name": "python3"
  },
  "language_info": {
   "codemirror_mode": {
    "name": "ipython",
    "version": 3
   },
   "file_extension": ".py",
   "mimetype": "text/x-python",
   "name": "python",
   "nbconvert_exporter": "python",
   "pygments_lexer": "ipython3",
   "version": "3.11.7"
  },
  "toc": {
   "base_numbering": 1,
   "nav_menu": {},
   "number_sections": true,
   "sideBar": true,
   "skip_h1_title": false,
   "title_cell": "Table of Contents",
   "title_sidebar": "Contents",
   "toc_cell": false,
   "toc_position": {},
   "toc_section_display": true,
   "toc_window_display": true
  },
  "varInspector": {
   "cols": {
    "lenName": 16,
    "lenType": 16,
    "lenVar": 40
   },
   "kernels_config": {
    "python": {
     "delete_cmd_postfix": "",
     "delete_cmd_prefix": "del ",
     "library": "var_list.py",
     "varRefreshCmd": "print(var_dic_list())"
    },
    "r": {
     "delete_cmd_postfix": ") ",
     "delete_cmd_prefix": "rm(",
     "library": "var_list.r",
     "varRefreshCmd": "cat(var_dic_list()) "
    }
   },
   "types_to_exclude": [
    "module",
    "function",
    "builtin_function_or_method",
    "instance",
    "_Feature"
   ],
   "window_display": false
  }
 },
 "nbformat": 4,
 "nbformat_minor": 5
}
